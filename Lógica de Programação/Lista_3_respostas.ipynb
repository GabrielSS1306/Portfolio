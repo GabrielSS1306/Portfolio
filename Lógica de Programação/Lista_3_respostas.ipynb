{
  "nbformat": 4,
  "nbformat_minor": 0,
  "metadata": {
    "colab": {
      "provenance": []
    },
    "kernelspec": {
      "name": "python3",
      "display_name": "Python 3"
    },
    "language_info": {
      "name": "python"
    }
  },
  "cells": [
    {
      "cell_type": "code",
      "execution_count": 2,
      "metadata": {
        "colab": {
          "base_uri": "https://localhost:8080/"
        },
        "id": "p-F2BOJM2VSc",
        "outputId": "962e1a1e-b48e-487c-f70a-30e52ed4ca1f"
      },
      "outputs": [
        {
          "output_type": "stream",
          "name": "stdout",
          "text": [
            "Números inteiros: [1, 4, 7, 2, 9, 6]\n"
          ]
        }
      ],
      "source": [
        "# 1. Crie uma lista com 6 números inteiros e mostre esses números na tela.\n",
        "lista_inteiros = [1, 4, 7, 2, 9, 6]\n",
        "print(\"Números inteiros:\", lista_inteiros)"
      ]
    },
    {
      "cell_type": "code",
      "source": [
        "# 2. Crie uma lista com 5 números reais (float) e mostre esses números na tela.\n",
        "lista_reais = [1.5, 2.8, 3.3, 4.1, 5.9]\n",
        "print(\"Números reais:\", lista_reais)\n"
      ],
      "metadata": {
        "colab": {
          "base_uri": "https://localhost:8080/"
        },
        "id": "SNjepvgK2dlW",
        "outputId": "01b7a27e-e02d-4ae8-e973-80860abe06f9"
      },
      "execution_count": 3,
      "outputs": [
        {
          "output_type": "stream",
          "name": "stdout",
          "text": [
            "Números reais: [1.5, 2.8, 3.3, 4.1, 5.9]\n"
          ]
        }
      ]
    },
    {
      "cell_type": "code",
      "source": [
        "# 3. Crie uma lista com 7 strings e mostre essas strings na tela.\n",
        "lista_strings = [\"Bahia\", \"Rio de Janeiro\", \"São Paulo\", \"Salvador\", \"Porto Alegre\", \"Cuiabá\", \"Goiás\"]\n",
        "print(\"Strings:\", lista_strings)"
      ],
      "metadata": {
        "colab": {
          "base_uri": "https://localhost:8080/"
        },
        "id": "JEj-uUcR2eA-",
        "outputId": "b589cfaa-1f95-4b55-8a86-3a0fddd9adad"
      },
      "execution_count": 4,
      "outputs": [
        {
          "output_type": "stream",
          "name": "stdout",
          "text": [
            "Strings: ['Bahia', 'Rio de Janeiro', 'São Paulo', 'Salvador', 'Porto Alegre', 'Cuiabá', 'Goiás']\n"
          ]
        }
      ]
    },
    {
      "cell_type": "code",
      "source": [
        "# 4. Faça um programa que, dado uma lista de números inteiros, mostre na tela o menor valor e o maior valor dessa lista. Faça de duas formas: com e sem as built-in functions.\n",
        "#COM FUNÇÕES\n",
        "lista = [1, 2, 3, 4, 5, 6]\n",
        "print(\"Menor:\", min(lista))\n",
        "print(\"Maior:\", max(lista))\n",
        "#SEM FUNÇÕES\n",
        "lista = [1, 2, 3, 4, 5, 6]\n",
        "menor = lista[0]\n",
        "maior = lista[0]\n",
        "for numero in lista:\n",
        "    if numero < menor:\n",
        "        menor = numero\n",
        "    if numero > maior:\n",
        "        maior = numero\n",
        "print(\"Menor:\", menor)\n",
        "print(\"Maior:\", maior)"
      ],
      "metadata": {
        "colab": {
          "base_uri": "https://localhost:8080/"
        },
        "id": "e2Gf0y622eK6",
        "outputId": "e6419afc-7f71-43c7-8365-9de6cbd2de2b"
      },
      "execution_count": 7,
      "outputs": [
        {
          "output_type": "stream",
          "name": "stdout",
          "text": [
            "Menor: 1\n",
            "Maior: 6\n",
            "Menor: 1\n",
            "Maior: 6\n"
          ]
        }
      ]
    },
    {
      "cell_type": "code",
      "source": [
        "# 5. Crie uma lista com 10 números inteiros. A partir dele, crie outra lista onde cada elemento de índice par é o quadrado dos elementos da primeiro lista e os de índice ímpar são o dobro.\n",
        "lista_original = [1, 2, 3, 4, 5, 6, 7, 8, 9, 10]\n",
        "nova_lista = []\n",
        "for i in range(len(lista_original)):\n",
        "    if i % 2 == 0:\n",
        "        nova_lista.append(lista_original[i] ** 2)\n",
        "    else:\n",
        "        nova_lista.append(lista_original[i] * 2)\n",
        "print(\"Nova lista:\", nova_lista)"
      ],
      "metadata": {
        "colab": {
          "base_uri": "https://localhost:8080/"
        },
        "id": "O5QE-Mpk2eXd",
        "outputId": "4def6b0a-a93f-41a7-87c2-c3a66220c981"
      },
      "execution_count": 8,
      "outputs": [
        {
          "output_type": "stream",
          "name": "stdout",
          "text": [
            "Nova lista: [1, 4, 9, 8, 25, 12, 49, 16, 81, 20]\n"
          ]
        }
      ]
    },
    {
      "cell_type": "code",
      "source": [
        "# 6. Crie uma lista de 10 elementos e rotacione para a direita (o último passa a ser o primeiro, assim por diante).\n",
        "lista = [1, 2, 3, 4, 5, 6, 7, 8, 9, 10]\n",
        "ultimo = lista[-1]\n",
        "rotacionada = [ultimo] + lista[:-1]\n",
        "print(\"Lista rotacionada:\", rotacionada)"
      ],
      "metadata": {
        "colab": {
          "base_uri": "https://localhost:8080/"
        },
        "id": "ehLv817L2ebt",
        "outputId": "c85ac590-b141-486f-837d-b91ed3d88a29"
      },
      "execution_count": 9,
      "outputs": [
        {
          "output_type": "stream",
          "name": "stdout",
          "text": [
            "Lista rotacionada: [10, 1, 2, 3, 4, 5, 6, 7, 8, 9]\n"
          ]
        }
      ]
    },
    {
      "cell_type": "code",
      "source": [
        "# 7. Faça um programa que lê 8 números inteiros, calcula a média, a mediana, a moda, a variância e o desvio padrão desses números, mostrando os resultados na tela.\n",
        "import statistics\n",
        "numeros = [7, 8, 9, 10, 11, 12, 13, 14]\n",
        "media = statistics.mean(numeros)\n",
        "mediana = statistics.median(numeros)\n",
        "moda = statistics.mode(numeros)\n",
        "variancia = statistics.variance(numeros)\n",
        "desvio_padrao = statistics.stdev(numeros)\n",
        "print(\"Média:\", media)\n",
        "print(\"Mediana:\", mediana)\n",
        "print(\"Moda:\", moda)\n",
        "print(\"Variância:\", variancia)\n",
        "print(\"Desvio Padrão:\", desvio_padrao)"
      ],
      "metadata": {
        "colab": {
          "base_uri": "https://localhost:8080/"
        },
        "id": "ej91Lb8t2evY",
        "outputId": "5eb5a396-7eb8-417d-c970-a05a6ecff6dc"
      },
      "execution_count": 11,
      "outputs": [
        {
          "output_type": "stream",
          "name": "stdout",
          "text": [
            "Média: 10.5\n",
            "Mediana: 10.5\n",
            "Moda: 7\n",
            "Variância: 6\n",
            "Desvio Padrão: 2.449489742783178\n"
          ]
        }
      ]
    },
    {
      "cell_type": "code",
      "source": [
        "# 8. Crie uma lista com pelo menos 20 números inteiros positivos menores do que 10. Então, o programa deverá mostrar quantas vezes cada um desses números aparece na lista. Mostre na tela o número e quantas vezes ele apareceu (mostre apenas uma vez para cada número diferente).\n",
        "import random\n",
        "lista = [random.randint(0, 9) for _ in range(20)]\n",
        "print(\"Lista:\", lista)\n",
        "frequencias = {}\n",
        "for numero in lista:\n",
        "    if numero in frequencias:\n",
        "        frequencias[numero] += 1\n",
        "    else:\n",
        "        frequencias[numero] = 1\n",
        "print(\"Frequência de cada número:\")\n",
        "for numero, contagem in frequencias.items():\n",
        "    print(f\"Número {numero} apareceu {contagem} vezes\")"
      ],
      "metadata": {
        "colab": {
          "base_uri": "https://localhost:8080/"
        },
        "id": "xCdBXsg35610",
        "outputId": "0efd0cc3-4a6e-45c9-a6f0-52c08f1a1216"
      },
      "execution_count": 12,
      "outputs": [
        {
          "output_type": "stream",
          "name": "stdout",
          "text": [
            "Lista: [9, 9, 1, 9, 1, 0, 3, 3, 3, 1, 5, 4, 7, 1, 9, 2, 6, 9, 1, 8]\n",
            "Frequência de cada número:\n",
            "Número 9 apareceu 5 vezes\n",
            "Número 1 apareceu 5 vezes\n",
            "Número 0 apareceu 1 vezes\n",
            "Número 3 apareceu 3 vezes\n",
            "Número 5 apareceu 1 vezes\n",
            "Número 4 apareceu 1 vezes\n",
            "Número 7 apareceu 1 vezes\n",
            "Número 2 apareceu 1 vezes\n",
            "Número 6 apareceu 1 vezes\n",
            "Número 8 apareceu 1 vezes\n"
          ]
        }
      ]
    },
    {
      "cell_type": "code",
      "source": [
        "# 9. Utilizando função randint da biblioteca random, popule uma lista chamada dados com 20 números inteiros aleatórios entre -10 e 10. Crie duas listas vazias chamadas negativos e positivos. Coloque os elementos negativos e positivos (o zero entrará nessa última lista) da primeira lista em suas listas correspondentes. Mostre as listas negativos e positivos na tela.\n",
        "import random\n",
        "dados = [random.randint(-10, 10) for _ in range(20)]\n",
        "negativos = []\n",
        "positivos = []\n",
        "for num in dados:\n",
        "    if num < 0:\n",
        "        negativos.append(num)\n",
        "    else:\n",
        "        positivos.append(num)\n",
        "print(\"Lista original:\", dados)\n",
        "print(\"Negativos:\", negativos)\n",
        "print(\"Positivos (inclui zero):\", positivos)"
      ],
      "metadata": {
        "colab": {
          "base_uri": "https://localhost:8080/"
        },
        "id": "65gSEv6G6Q9L",
        "outputId": "f37709ec-e000-4235-bf92-06a12bdfcd5f"
      },
      "execution_count": 13,
      "outputs": [
        {
          "output_type": "stream",
          "name": "stdout",
          "text": [
            "Lista original: [-1, 1, -10, 10, 3, -5, -4, 1, -4, -8, 6, -8, 10, 7, -1, 4, -2, 10, 8, -6]\n",
            "Negativos: [-1, -10, -5, -4, -4, -8, -8, -1, -2, -6]\n",
            "Positivos (inclui zero): [1, 10, 3, 1, 6, 10, 7, 4, 10, 8]\n"
          ]
        }
      ]
    },
    {
      "cell_type": "code",
      "source": [
        "# 10. Utilizando função randint da biblioteca random, popule uma lista com 30 valores aleatórios entre -20 e 20. Depois, retire os elementos negativos da lista.\n",
        "lista = [random.randint(-20, 20) for _ in range(30)]\n",
        "print(\"Original:\", lista)\n",
        "lista = [num for num in lista if num >= 0]\n",
        "print(\"Sem negativos:\", lista)"
      ],
      "metadata": {
        "colab": {
          "base_uri": "https://localhost:8080/"
        },
        "id": "uu87Ppo364v_",
        "outputId": "1e0b2558-a313-49b3-a251-cb0ad2e213e6"
      },
      "execution_count": 14,
      "outputs": [
        {
          "output_type": "stream",
          "name": "stdout",
          "text": [
            "Original: [-12, -15, 19, 0, 20, 0, 10, 18, 7, 4, 6, -13, 7, -2, -3, 0, 15, 15, 8, 7, 5, 4, 10, 19, -16, 6, 6, 2, 2, 1]\n",
            "Sem negativos: [19, 0, 20, 0, 10, 18, 7, 4, 6, 7, 0, 15, 15, 8, 7, 5, 4, 10, 19, 6, 6, 2, 2, 1]\n"
          ]
        }
      ]
    },
    {
      "cell_type": "code",
      "source": [
        "# 11. Utilizando função random da biblioteca random, popule uma lista com 1000 números aleatórios (esses estarão no intervalo de 0 a 1). Depois, multiplique cada um desses números por 100, atualizando a própria lista. Então, calcule a quantidade de números que estão presentes em intervalos de 5 em 5 (de 0 a 5, de 5 a 10, de 10 a 15, etc) e armazene em outra lista. Por fim, mostre esse resultado na tela.\n",
        "import random\n",
        "lista = [random.random() * 100 for _ in range(1000)]\n",
        "intervalos = [0] * 20\n",
        "for num in lista:\n",
        "    indice = int(num // 5)\n",
        "    if indice == 20:\n",
        "        indice = 19\n",
        "    intervalos[indice] += 1\n",
        "print(\"Distribuição em intervalos de 5:\")\n",
        "for i, qtd in enumerate(intervalos):\n",
        "    print(f\"{i*5} a {i*5+5}: {qtd}\")"
      ],
      "metadata": {
        "colab": {
          "base_uri": "https://localhost:8080/"
        },
        "id": "7-Iw8NB57ERR",
        "outputId": "2dda2070-9207-4ec0-efdb-eec85facab6d"
      },
      "execution_count": 57,
      "outputs": [
        {
          "output_type": "stream",
          "name": "stdout",
          "text": [
            "Distribuição em intervalos de 5:\n",
            "0 a 5: 53\n",
            "5 a 10: 38\n",
            "10 a 15: 42\n",
            "15 a 20: 51\n",
            "20 a 25: 61\n",
            "25 a 30: 51\n",
            "30 a 35: 59\n",
            "35 a 40: 37\n",
            "40 a 45: 59\n",
            "45 a 50: 40\n",
            "50 a 55: 49\n",
            "55 a 60: 45\n",
            "60 a 65: 51\n",
            "65 a 70: 63\n",
            "70 a 75: 47\n",
            "75 a 80: 45\n",
            "80 a 85: 55\n",
            "85 a 90: 46\n",
            "90 a 95: 57\n",
            "95 a 100: 51\n"
          ]
        }
      ]
    },
    {
      "cell_type": "code",
      "source": [
        "# 12. Utilizando função random da biblioteca random, popule uma lista chamada fitness com 1000 números aleatórios (esses estarão no intervalo de 0 a 1). Depois, faça um for com 100.000 iterações procurando o menor valor da lista fitness e altere o valor do menor e de seus dois vizinhos, colocando outros valores aleatórios nos três lugares (utilize a função random novamente para isso). Obs.: “vizinhos” são os números que vêm antes e depois do menor encontrado. Utilize o primeiro elemento da lista como o vizinho do último elemento da lista e vice-versa (isso se chama “condições de contorno periódica).\n",
        "import random\n",
        "fitness = [random.random() for _ in range(1000)]\n",
        "for _ in range(100000):\n",
        "    menor = min(fitness)\n",
        "    i = fitness.index(menor)\n",
        "    esquerda = (i - 1) % len(fitness)\n",
        "    direita = (i + 1) % len(fitness)\n",
        "    fitness[esquerda] = random.random()\n",
        "    fitness[i] = random.random()\n",
        "    fitness[direita] = random.random()\n",
        "print(\"Processo finalizado. Exemplo de fitness:\", fitness[:10])"
      ],
      "metadata": {
        "colab": {
          "base_uri": "https://localhost:8080/"
        },
        "id": "vayEV3KJ7RQY",
        "outputId": "87a24aa7-dbc5-4e57-e5b6-c4381eab5698"
      },
      "execution_count": 16,
      "outputs": [
        {
          "output_type": "stream",
          "name": "stdout",
          "text": [
            "Processo finalizado. Exemplo de fitness: [0.7492780520772555, 0.6926989034959106, 0.9892988660949713, 0.83550706191746, 0.7486578852446562, 0.8037258833178863, 0.9452216601936397, 0.6679340838435637, 0.7321775441253084, 0.6645046141869667]\n"
          ]
        }
      ]
    },
    {
      "cell_type": "code",
      "source": [
        "# 13. Faça um programa que peça uma frase/texto para o usuário e armazene na variável texto. O programa deverá deixar cada palavra do texto com a primeira e com a última letra maiúscula e a restante minúscula e armazene na variável texto o resultado. Mostre a variável texto na tela.\n",
        "texto = input(\"Digite uma frase: \")\n",
        "palavras = texto.split()\n",
        "nova_lista = []\n",
        "for palavra in palavras:\n",
        "    if len(palavra) > 1:\n",
        "        nova = palavra[0].upper() + palavra[1:-1].lower() + palavra[-1].upper()\n",
        "    else:\n",
        "        nova = palavra.upper()\n",
        "    nova_lista.append(nova)\n",
        "texto = \" \".join(nova_lista)\n",
        "print(\"Texto formatado:\", texto)"
      ],
      "metadata": {
        "colab": {
          "base_uri": "https://localhost:8080/"
        },
        "id": "_medKr317h6d",
        "outputId": "8b675463-3fd3-402d-af56-24f98609df31"
      },
      "execution_count": 18,
      "outputs": [
        {
          "output_type": "stream",
          "name": "stdout",
          "text": [
            "Digite uma frase: flamengo\n",
            "Texto formatado: FlamengO\n"
          ]
        }
      ]
    },
    {
      "cell_type": "code",
      "source": [
        "# 14. Utilizando list comprehension, faça uma lista com o tamanho de cada palavra de um texto (string) informado pelo usuário. (Cada posição da lista será o tamanho de cada palavra do texto).\n",
        "texto = input(\"Digite um texto: \")\n",
        "tamanhos = [len(palavra) for palavra in texto.split()]\n",
        "print(\"Tamanhos das palavras:\", tamanhos)"
      ],
      "metadata": {
        "colab": {
          "base_uri": "https://localhost:8080/"
        },
        "id": "2bzvB-Ek7tl5",
        "outputId": "d86c6419-a313-4c43-e68f-db3a1b35e7e7"
      },
      "execution_count": 19,
      "outputs": [
        {
          "output_type": "stream",
          "name": "stdout",
          "text": [
            "Digite um texto: flamengo\n",
            "Tamanhos das palavras: [8]\n"
          ]
        }
      ]
    },
    {
      "cell_type": "code",
      "source": [
        "# 15. Crie uma função chamada ‘hoje()’ que receba uma lista de 3 elementos contendo uma data (dia, mês e ano). Então, a função deverá exibir a data no formato ‘dia/mês/ano’\n",
        "def hoje(data):\n",
        "    dia, mes, ano = data\n",
        "    print(f\"{dia:02d}/{mes:02d}/{ano}\")\n",
        "hoje([9, 6, 2025])"
      ],
      "metadata": {
        "colab": {
          "base_uri": "https://localhost:8080/"
        },
        "id": "kuiFpKU178ms",
        "outputId": "0be1826d-4afc-4b3f-dad9-47081fde8312"
      },
      "execution_count": 23,
      "outputs": [
        {
          "output_type": "stream",
          "name": "stdout",
          "text": [
            "09/06/2025\n"
          ]
        }
      ]
    },
    {
      "cell_type": "code",
      "source": [
        "# 16. Faça uma função que recebe três argumentos (a,b e c) e monta uma string contendo a equação de 1º grau ‘ax + b = c’ . O programa deverá retornar essa string. Observações: I) o programa só deve funcionar para o coeficiente a diferente de zero II) se o b for diferente de zero, o sinal dele deverá aparecer afastado do número, como no exemplo acima. Se o b for zero, ele não deverá aparecer III) se o coeficiente a for 1 o valor não deverá aparecer, ficando apenas o ‘x’; se for -1 deverá aparecer apenas ‘-x’.\n",
        "def montar_equacao(a, b, c):\n",
        "    if a == 0:\n",
        "        return \"Coeficiente 'a' não pode ser zero.\"\n",
        "    a_str = \"\" if a == 1 else \"-\" if a == -1 else str(a)\n",
        "    if b > 0:\n",
        "        equacao = f\"{a_str}x + {b} = {c}\"\n",
        "    elif b < 0:\n",
        "        equacao = f\"{a_str}x - {abs(b)} = {c}\"\n",
        "    else:\n",
        "        equacao = f\"{a_str}x = {c}\"\n",
        "    return equacao\n",
        "print(montar_equacao(2, -5, 13))\n"
      ],
      "metadata": {
        "colab": {
          "base_uri": "https://localhost:8080/"
        },
        "id": "4Bwo0W4k8L3Y",
        "outputId": "73935769-73f7-40ea-ab69-08ad8a5d17d9"
      },
      "execution_count": 25,
      "outputs": [
        {
          "output_type": "stream",
          "name": "stdout",
          "text": [
            "2x - 5 = 13\n"
          ]
        }
      ]
    },
    {
      "cell_type": "code",
      "source": [
        "# 17. Faça uma função que recebe um texto com uma equação de 1º grau e retorna os 3 coeficientes, a, b e c. A equação terá o formato ‘ax + b = c’, se o b for positivo, ‘ax – b = c’ se o b for negativo e ‘ax = c’ se o b for zero. O a pode ser positivo ou negativo, mas não zero. O c pode ser qualquer valor.\n",
        "def extrair_coeficientes(equacao):\n",
        "    equacao = equacao.replace(\" \", \"\").replace(\"-\", \"+-\")\n",
        "    lado_esq, c = equacao.split(\"=\")\n",
        "    c = int(c)\n",
        "    if \"x\" in lado_esq:\n",
        "        partes = lado_esq.split(\"x\")\n",
        "        a_str = partes[0]\n",
        "        resto = partes[1] if len(partes) > 1 else \"\"\n",
        "        a = 1 if a_str == \"\" else -1 if a_str == \"-\" else int(a_str)\n",
        "        b = int(resto.replace(\"+\", \"\")) if resto else 0\n",
        "    else:\n",
        "        a = 0\n",
        "        b = int(lado_esq)\n",
        "    return a, b, c\n",
        "print(extrair_coeficientes(\"2x - 5 = 13\"))"
      ],
      "metadata": {
        "colab": {
          "base_uri": "https://localhost:8080/"
        },
        "id": "SQSou8Pk8duf",
        "outputId": "eb944900-9f8e-4c15-96f7-f1c5d11f875c"
      },
      "execution_count": 26,
      "outputs": [
        {
          "output_type": "stream",
          "name": "stdout",
          "text": [
            "(2, -5, 13)\n"
          ]
        }
      ]
    },
    {
      "cell_type": "code",
      "source": [
        "# 18. Faça uma função que recebe uma string com uma equação de 1º grau do tipo ‘ax + b = c’ e mostre a solução passo-a-passo dessa equação.\n",
        "#Exemplo: eq = ‘2x – 5 = 13’\n",
        "#Etapa 1: ‘2x = 13 + 5’\n",
        "#Etapa 2: ‘2x = 18’\n",
        "#Etapa 3: ‘x = 18/2’\n",
        "#Etapa 4: ‘x = 9’\n",
        "#A função deverá mostrar a etapa 3 se o a for igual a 1 e não deverá mostrar a etapa 1 se o b for zero. Observe que a palavra “Etapa” e número seguinte são opcionais aparecerem na solução.\n",
        "def resolver_equacao(eq):\n",
        "    a, b, c = extrair_coeficientes(eq)\n",
        "    print(f\"Equação: {eq}\")\n",
        "    if b != 0:\n",
        "        op = \"+\" if b < 0 else \"-\"\n",
        "        print(f\"Etapa 1: {a}x = {c} {op} {abs(b)}\")\n",
        "        novo_c = c - b\n",
        "    else:\n",
        "        novo_c = c\n",
        "    print(f\"Etapa 2: {a}x = {novo_c}\")\n",
        "\n",
        "    if a != 1:\n",
        "        print(f\"Etapa 3: x = {novo_c}/{a}\")\n",
        "        print(f\"Etapa 4: x = {novo_c / a}\")\n",
        "    else:\n",
        "        print(f\"Etapa 3: x = {novo_c}\")\n",
        "resolver_equacao(\"2x - 5 = 13\")"
      ],
      "metadata": {
        "colab": {
          "base_uri": "https://localhost:8080/"
        },
        "id": "VTb2sZLQ87wg",
        "outputId": "f5bbb25b-898c-4cd7-a8be-3fdaa135e113"
      },
      "execution_count": 27,
      "outputs": [
        {
          "output_type": "stream",
          "name": "stdout",
          "text": [
            "Equação: 2x - 5 = 13\n",
            "Etapa 1: 2x = 13 + 5\n",
            "Etapa 2: 2x = 18\n",
            "Etapa 3: x = 18/2\n",
            "Etapa 4: x = 9.0\n"
          ]
        }
      ]
    },
    {
      "cell_type": "code",
      "source": [
        "# 19. Faça uma função que recebe 3 valores e verifica se esses números formam um triângulo. Se formar, o programa deverá retornar True. Do contrário, deverá retornar False.\n",
        "def forma_triangulo(a, b, c):\n",
        "    return a + b > c and a + c > b and b + c > a\n",
        "print(forma_triangulo(3, 4, 5))\n",
        "print(forma_triangulo(1, 2, 3))"
      ],
      "metadata": {
        "colab": {
          "base_uri": "https://localhost:8080/"
        },
        "id": "Zgn4fUjz9v_C",
        "outputId": "bd7590df-0f48-42ef-db70-a98c300425ab"
      },
      "execution_count": 29,
      "outputs": [
        {
          "output_type": "stream",
          "name": "stdout",
          "text": [
            "True\n",
            "False\n"
          ]
        }
      ]
    },
    {
      "cell_type": "code",
      "source": [
        "# 20. Faça uma função que recebe 3 valores. Se esses 3 valores formarem um triângulo, o programa deverá calcular o perímetro e área desse triângulo e retornar esses dois valores. Utilize a função do exercício 15 para resolver esse exercício.\n",
        "def forma_triangulo(a, b, c):\n",
        "    return a + b > c and a + c > b and b + c > a\n",
        "def triangulo_perimetro_area(a, b, c):\n",
        "    if forma_triangulo(a, b, c):\n",
        "        perimetro = a + b + c\n",
        "        s = perimetro / 2\n",
        "        area = (s * (s - a) * (s - b) * (s - c)) ** 0.5\n",
        "        return perimetro, area\n",
        "    else:\n",
        "        return None, None\n",
        "p, a = triangulo_perimetro_area(3, 4, 5)\n",
        "print(f\"Perímetro: {p}, Área: {a}\")"
      ],
      "metadata": {
        "colab": {
          "base_uri": "https://localhost:8080/"
        },
        "id": "-rvBeUjL96gL",
        "outputId": "663ec18d-6073-4a8c-dd5b-4b11e055b1a9"
      },
      "execution_count": 32,
      "outputs": [
        {
          "output_type": "stream",
          "name": "stdout",
          "text": [
            "Perímetro: 12, Área: 6.0\n"
          ]
        }
      ]
    },
    {
      "cell_type": "code",
      "source": [
        "# 21. Faça uma função que recebe 3 valores. Caso esses valores formarem um triângulo, o programa deverá retornar as 3 alturas do triângulo em ordem crescente. Utilize as funções criadas anteriormente (15 e 16) para resolver esse problema. Obs.: é para o programa retornar 3 valores.\n",
        "def alturas_triangulo(a, b, c):\n",
        "    if forma_triangulo(a, b, c):\n",
        "        _, area = triangulo_perimetro_area(a, b, c)\n",
        "        h1 = (2 * area) / a\n",
        "        h2 = (2 * area) / b\n",
        "        h3 = (2 * area) / c\n",
        "        return tuple(sorted([h1, h2, h3]))\n",
        "    else:\n",
        "        return None\n",
        "print(alturas_triangulo(3, 4, 5))"
      ],
      "metadata": {
        "colab": {
          "base_uri": "https://localhost:8080/"
        },
        "id": "aSQ0rJiE-Mgw",
        "outputId": "f9c3522c-222c-4441-deec-81fc0e510c8c"
      },
      "execution_count": 33,
      "outputs": [
        {
          "output_type": "stream",
          "name": "stdout",
          "text": [
            "(2.4, 3.0, 4.0)\n"
          ]
        }
      ]
    },
    {
      "cell_type": "code",
      "source": [
        "# 22. Faça uma função chamada Matriz() que recebe dois números inteiros positivos (linhas e colunas) e um valor booleano e retorna uma matriz (lista de listas). Se o valor booleano for True, então a matriz deverá receber valores aleatórios entre -3 e 3. Se for False (valor default), deverá retornar uma matriz com todos os elementos iguais a zero.\n",
        "import random\n",
        "def Matriz(linhas, colunas, aleatorio=False):\n",
        "    if aleatorio:\n",
        "        return [[random.randint(-3, 3) for _ in range(colunas)] for _ in range(linhas)]\n",
        "    else:\n",
        "        return [[0 for _ in range(colunas)] for _ in range(linhas)]\n",
        "print(Matriz(3, 3, True))"
      ],
      "metadata": {
        "colab": {
          "base_uri": "https://localhost:8080/"
        },
        "id": "P5c3IFcs-pVR",
        "outputId": "7505f394-c781-4463-d02d-88e4ffa4f4cd"
      },
      "execution_count": 34,
      "outputs": [
        {
          "output_type": "stream",
          "name": "stdout",
          "text": [
            "[[1, -1, -3], [0, 3, -1], [-3, 3, 0]]\n"
          ]
        }
      ]
    },
    {
      "cell_type": "code",
      "source": [
        "# 23. Faça uma função chamada mostra_matriz() que recebe uma matriz e mostra essa matriz na tela. Observe que cada elemento da coluna deverá estar embaixo do outro.\n",
        "def mostra_matriz(matriz):\n",
        "    for linha in matriz:\n",
        "        for elem in linha:\n",
        "            print(f\"{elem:>3}\", end=\" \")\n",
        "        print()\n",
        "mostra_matriz(Matriz(3, 3, True))"
      ],
      "metadata": {
        "colab": {
          "base_uri": "https://localhost:8080/"
        },
        "id": "XRBMUOgq-1N2",
        "outputId": "76eee70f-3625-4e4e-f6f6-2c1be7916394"
      },
      "execution_count": 43,
      "outputs": [
        {
          "output_type": "stream",
          "name": "stdout",
          "text": [
            " -1  -1  -1 \n",
            " -1  -1  -3 \n",
            " -1   3   2 \n"
          ]
        }
      ]
    },
    {
      "cell_type": "code",
      "source": [
        "# 24. aça uma função chamada soma_matriz() que recebe duas matrizes e retorna uma matriz contendo a soma das matrizes dos argumentos.\n",
        "def soma_matriz(m1, m2):\n",
        "    linhas = len(m1)\n",
        "    colunas = len(m1[0])\n",
        "    return [[m1[i][j] + m2[i][j] for j in range(colunas)] for i in range(linhas)]\n",
        "m1 = Matriz(2, 2, True)\n",
        "m2 = Matriz(2, 2, True)\n",
        "mostra_matriz(soma_matriz(m1, m2))"
      ],
      "metadata": {
        "colab": {
          "base_uri": "https://localhost:8080/"
        },
        "id": "uZktDbjR-7GI",
        "outputId": "0190bbfe-4b33-48b1-b4f3-96fe1edf32cb"
      },
      "execution_count": 44,
      "outputs": [
        {
          "output_type": "stream",
          "name": "stdout",
          "text": [
            "  4  -3 \n",
            "  2   2 \n"
          ]
        }
      ]
    },
    {
      "cell_type": "code",
      "source": [
        "# 25. Faça uma função que chamada mult_matriz() que recebe duas matrizes e efetua o produto entre elas, retornando a matriz dos resultados.\n",
        "def mult_matriz(m1, m2):\n",
        "    linhas_m1 = len(m1)\n",
        "    colunas_m1 = len(m1[0])\n",
        "    colunas_m2 = len(m2[0])\n",
        "    resultado = [[0 for _ in range(colunas_m2)] for _ in range(linhas_m1)]\n",
        "    for i in range(linhas_m1):\n",
        "        for j in range(colunas_m2):\n",
        "            for k in range(colunas_m1):\n",
        "                resultado[i][j] += m1[i][k] * m2[k][j]\n",
        "    return resultado\n",
        "m1 = [[1, 2], [3, 4]]\n",
        "m2 = [[5, 6], [7, 8]]\n",
        "mostra_matriz(mult_matriz(m1, m2))"
      ],
      "metadata": {
        "colab": {
          "base_uri": "https://localhost:8080/"
        },
        "id": "LmkdJIID--nK",
        "outputId": "765e7485-b6b5-409e-ff09-9dfe67551d2c"
      },
      "execution_count": 45,
      "outputs": [
        {
          "output_type": "stream",
          "name": "stdout",
          "text": [
            " 19  22 \n",
            " 43  50 \n"
          ]
        }
      ]
    },
    {
      "cell_type": "code",
      "source": [
        "# 26. Faça uma função chamada determinante() que recebe uma matriz quadrada e retorna o determinante dessa matriz.\n",
        "def determinante(matriz):\n",
        "    n = len(matriz)\n",
        "    if n == 1:\n",
        "        return matriz[0][0]\n",
        "    if n == 2:\n",
        "        return matriz[0][0]*matriz[1][1] - matriz[0][1]*matriz[1][0]\n",
        "    det = 0\n",
        "    for c in range(n):\n",
        "        submatriz = [linha[:c] + linha[c+1:] for linha in matriz[1:]]\n",
        "        cofator = (-1) ** c * matriz[0][c]\n",
        "        det += cofator * determinante(submatriz)\n",
        "    return det\n",
        "m = [[2, 5, 3], [1, -2, -1], [1, 3, 4]]\n",
        "print(determinante(m))"
      ],
      "metadata": {
        "colab": {
          "base_uri": "https://localhost:8080/"
        },
        "id": "4wUKxyLO_Cm6",
        "outputId": "dc4c2da6-0495-45af-e292-6ff5f440d0e7"
      },
      "execution_count": 48,
      "outputs": [
        {
          "output_type": "stream",
          "name": "stdout",
          "text": [
            "-20\n"
          ]
        }
      ]
    },
    {
      "cell_type": "code",
      "source": [
        "# 27. Faça uma função que recebe uma matriz de ordem 3x3 e mostre essa matriz em tabuleiro (tipo jogo da velha) com esses valores.\n",
        "#Exemplo:\n",
        "#matriz =\n",
        "#[[1, 2, 3],\n",
        "#[4, 5, 6],\n",
        "#[7, 8, 9]\n",
        "#mostrar_tabuleiro(matriz)\n",
        "#1 | 2 | 3\n",
        "#---+---+---\n",
        "#4 | 5 | 6\n",
        "#---+---+---\n",
        "#7 | 8 | 9\n",
        "def mostrar_tabuleiro_numerico(matriz):\n",
        "    for i in range(3):\n",
        "        linha = ' | '.join(str(matriz[i][j]) for j in range(3))\n",
        "        print(linha)\n",
        "        if i < 2:\n",
        "            print('---+---+---')\n",
        "matriz = [[1, 2, 3], [4, 5, 6], [7, 8, 9]]\n",
        "mostrar_tabuleiro_numerico(matriz)"
      ],
      "metadata": {
        "colab": {
          "base_uri": "https://localhost:8080/"
        },
        "id": "t67ehj-7_F8j",
        "outputId": "e0dda03f-daa0-4908-b63a-a8217dc18509"
      },
      "execution_count": 49,
      "outputs": [
        {
          "output_type": "stream",
          "name": "stdout",
          "text": [
            "1 | 2 | 3\n",
            "---+---+---\n",
            "4 | 5 | 6\n",
            "---+---+---\n",
            "7 | 8 | 9\n"
          ]
        }
      ]
    },
    {
      "cell_type": "code",
      "source": [
        "# 28. Análoga a anterior, faça uma função chamada ‘mostrar_tabuleiro()’ que recebe uma matriz de strings, contendo os elementos ‘X’, ‘O’ ou ‘ ’ (espaço vazio), e mostra esses elementos em um tabuleiro.\n",
        "#Exemplo:\n",
        "#tabuleiro =\n",
        "#[['X', 'O', 'X'],\n",
        "#[' ', 'O', ' '],\n",
        "#['X', ' ', 'O']]\n",
        "#mostra_tabuleiro(tabuleiro)\n",
        "#X | O | X\n",
        "#---+---+---\n",
        "#| O |\n",
        "#---+---+---\n",
        "#X | | O\n",
        "def mostrar_tabuleiro(matriz):\n",
        "    for i in range(3):\n",
        "        linha = ' | '.join(matriz[i][j] for j in range(3))\n",
        "        print(linha)\n",
        "        if i < 2:\n",
        "            print('---+---+---')\n",
        "tabuleiro = [['X', 'O', 'X'], [' ', 'O', ' '], ['X', ' ', 'O']]\n",
        "mostrar_tabuleiro(tabuleiro)"
      ],
      "metadata": {
        "colab": {
          "base_uri": "https://localhost:8080/"
        },
        "id": "8WJDuHOB_5J0",
        "outputId": "122b56a5-45b4-4f2e-c856-4640b785d60c"
      },
      "execution_count": 50,
      "outputs": [
        {
          "output_type": "stream",
          "name": "stdout",
          "text": [
            "X | O | X\n",
            "---+---+---\n",
            "  | O |  \n",
            "---+---+---\n",
            "X |   | O\n"
          ]
        }
      ]
    },
    {
      "cell_type": "code",
      "source": [
        "# 29. Faça uma função que recebe uma matriz 3x3 de strings, como se fosse um jogo da velha, e verifica se há algum vencedor. Há vencedor se uma linha, uma coluna ou uma diagonal contém 3 vezes o mesmo elemento (‘X’ ou ‘O’). A função deverá retornar 1 se há um vencedor for ‘X’, 2 se o vencedor for ‘O’ ou zero se não houver vencedor.\n",
        "def verifica_vencedor(tabuleiro):\n",
        "    for i in range(3):\n",
        "        if tabuleiro[i][0] == tabuleiro[i][1] == tabuleiro[i][2] and tabuleiro[i][0] in ['X', 'O']:\n",
        "            return 1 if tabuleiro[i][0] == 'X' else 2\n",
        "    for j in range(3):\n",
        "        if tabuleiro[0][j] == tabuleiro[1][j] == tabuleiro[2][j] and tabuleiro[0][j] in ['X', 'O']:\n",
        "            return 1 if tabuleiro[0][j] == 'X' else 2\n",
        "    if tabuleiro[0][0] == tabuleiro[1][1] == tabuleiro[2][2] and tabuleiro[0][0] in ['X', 'O']:\n",
        "        return 1 if tabuleiro[0][0] == 'X' else 2\n",
        "    if tabuleiro[0][2] == tabuleiro[1][1] == tabuleiro[2][0] and tabuleiro[0][2] in ['X', 'O']:\n",
        "        return 1 if tabuleiro[0][2] == 'X' else 2\n",
        "    return 0\n",
        "tabuleiro = [\n",
        "    ['X', 'X', 'X'],\n",
        "    ['O', ' ', ' '],\n",
        "    ['O', ' ', ' ']\n",
        "]\n",
        "print(verifica_vencedor(tabuleiro))"
      ],
      "metadata": {
        "colab": {
          "base_uri": "https://localhost:8080/"
        },
        "id": "clBGAQ27AFjX",
        "outputId": "5fab0953-3913-4570-e5b9-53ac050b6dff"
      },
      "execution_count": 56,
      "outputs": [
        {
          "output_type": "stream",
          "name": "stdout",
          "text": [
            "1\n"
          ]
        }
      ]
    },
    {
      "cell_type": "code",
      "source": [
        "# 30. Faça um programa que simule um jogo da velha. Ele deverá pedir para o jogador 1 jogar ‘X’ em uma das posições vazia do tabuleiro. Caso ele jogue em uma posição ocupada, o programa deverá informar isso e pedir uma nova posição, fazendo isso enquanto o jogador escolher posições inválidas. Assim que ele jogar uma posição válida, verificar se há algum vencedor. Depois, o mesmo para o jogador 2, colocando o ‘O’ na posição escolhida. Mostre cada etapa após a escolha de uma posição válida escolhida.\n",
        "def mostrar_tabuleiro(tabuleiro):\n",
        "    for i in range(3):\n",
        "        print(' | '.join(tabuleiro[i]))\n",
        "        if i < 2:\n",
        "            print('---+---+---')\n",
        "def verifica_vencedor(tabuleiro):\n",
        "    for i in range(3):\n",
        "        if tabuleiro[i][0] == tabuleiro[i][1] == tabuleiro[i][2] != ' ':\n",
        "            return 1 if tabuleiro[i][0] == 'X' else 2\n",
        "    for j in range(3):\n",
        "        if tabuleiro[0][j] == tabuleiro[1][j] == tabuleiro[2][j] != ' ':\n",
        "            return 1 if tabuleiro[0][j] == 'X' else 2\n",
        "    if tabuleiro[0][0] == tabuleiro[1][1] == tabuleiro[2][2] != ' ':\n",
        "        return 1 if tabuleiro[0][0] == 'X' else 2\n",
        "    if tabuleiro[0][2] == tabuleiro[1][1] == tabuleiro[2][0] != ' ':\n",
        "        return 1 if tabuleiro[0][2] == 'X' else 2\n",
        "    return 0\n",
        "def jogo_da_velha():\n",
        "    tabuleiro = [[' ' for _ in range(3)] for _ in range(3)]\n",
        "    jogador_atual = 'X'\n",
        "    while True:\n",
        "        mostrar_tabuleiro(tabuleiro)\n",
        "        print(f\"Jogador {jogador_atual}, escolha sua posição (linha e coluna de 1 a 3):\")\n",
        "        try:\n",
        "            linha = int(input(\"Linha: \")) - 1\n",
        "            coluna = int(input(\"Coluna: \")) - 1\n",
        "        except ValueError:\n",
        "            print(\"Entrada inválida, digite números entre 1 e 3.\")\n",
        "            continue\n",
        "        if linha not in range(3) or coluna not in range(3):\n",
        "            print(\"Posição fora do tabuleiro, tente novamente.\")\n",
        "            continue\n",
        "        if tabuleiro[linha][coluna] != ' ':\n",
        "            print(\"Posição ocupada, escolha outra.\")\n",
        "            continue\n",
        "        tabuleiro[linha][coluna] = jogador_atual\n",
        "        vencedor = verifica_vencedor(tabuleiro)\n",
        "        if vencedor != 0:\n",
        "            mostrar_tabuleiro(tabuleiro)\n",
        "            print(f\"Jogador {'X' if vencedor == 1 else 'O'} venceu!\")\n",
        "            break\n",
        "        if all(tabuleiro[i][j] != ' ' for i in range(3) for j in range(3)):\n",
        "            mostrar_tabuleiro(tabuleiro)\n",
        "            print(\"Empate!\")\n",
        "            break\n",
        "        jogador_atual = 'O' if jogador_atual == 'X' else 'X'\n",
        "jogo_da_velha()"
      ],
      "metadata": {
        "colab": {
          "base_uri": "https://localhost:8080/"
        },
        "id": "lFOSkS8SAVZ9",
        "outputId": "a7bd1db2-948d-4ea5-81f0-ce4b681d32da"
      },
      "execution_count": 53,
      "outputs": [
        {
          "output_type": "stream",
          "name": "stdout",
          "text": [
            "  |   |  \n",
            "---+---+---\n",
            "  |   |  \n",
            "---+---+---\n",
            "  |   |  \n",
            "Jogador X, escolha sua posição (linha e coluna de 1 a 3):\n",
            "Linha: 1\n",
            "Coluna: 1\n",
            "X |   |  \n",
            "---+---+---\n",
            "  |   |  \n",
            "---+---+---\n",
            "  |   |  \n",
            "Jogador O, escolha sua posição (linha e coluna de 1 a 3):\n",
            "Linha: 3\n",
            "Coluna: 3\n",
            "X |   |  \n",
            "---+---+---\n",
            "  |   |  \n",
            "---+---+---\n",
            "  |   | O\n",
            "Jogador X, escolha sua posição (linha e coluna de 1 a 3):\n",
            "Linha: 1\n",
            "Coluna: 1\n",
            "Posição ocupada, escolha outra.\n",
            "X |   |  \n",
            "---+---+---\n",
            "  |   |  \n",
            "---+---+---\n",
            "  |   | O\n",
            "Jogador X, escolha sua posição (linha e coluna de 1 a 3):\n",
            "Linha: 2\n",
            "Coluna: 1\n",
            "X |   |  \n",
            "---+---+---\n",
            "X |   |  \n",
            "---+---+---\n",
            "  |   | O\n",
            "Jogador O, escolha sua posição (linha e coluna de 1 a 3):\n",
            "Linha: 2\n",
            "Coluna: 3\n",
            "X |   |  \n",
            "---+---+---\n",
            "X |   | O\n",
            "---+---+---\n",
            "  |   | O\n",
            "Jogador X, escolha sua posição (linha e coluna de 1 a 3):\n",
            "Linha: 3\n",
            "Coluna: 1\n",
            "X |   |  \n",
            "---+---+---\n",
            "X |   | O\n",
            "---+---+---\n",
            "X |   | O\n",
            "Jogador X venceu!\n"
          ]
        }
      ]
    }
  ]
}
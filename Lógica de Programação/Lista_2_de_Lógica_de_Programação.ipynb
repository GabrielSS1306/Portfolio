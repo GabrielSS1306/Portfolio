{
  "nbformat": 4,
  "nbformat_minor": 0,
  "metadata": {
    "colab": {
      "provenance": []
    },
    "kernelspec": {
      "name": "python3",
      "display_name": "Python 3"
    },
    "language_info": {
      "name": "python"
    }
  },
  "cells": [
    {
      "cell_type": "code",
      "execution_count": 1,
      "metadata": {
        "colab": {
          "base_uri": "https://localhost:8080/"
        },
        "id": "VBNparspFOow",
        "outputId": "50c7a4c1-e90f-4082-942b-51f67cffe316"
      },
      "outputs": [
        {
          "output_type": "stream",
          "name": "stdout",
          "text": [
            "Digite um número inteiro (negativo para sair): 12\n",
            "Digite um número inteiro (negativo para sair): 0\n",
            "Digite um número inteiro (negativo para sair): -5\n",
            "A média dos números digitados é: 6.0\n"
          ]
        }
      ],
      "source": [
        "# 1.Faça um programa que peça números inteiros ao usuário e calcula a média dos valores digitados. O programa deverá parar quando o usuário digitar um número negativo (que não deverá ser incluído no cálculo).\n",
        "soma = 0\n",
        "quantidade = 0\n",
        "continuar = \"s\"\n",
        "numero = int(input(\"Digite um número inteiro (negativo para sair): \"))\n",
        "if numero >= 0:\n",
        "    soma = soma + numero\n",
        "    quantidade = quantidade + 1\n",
        "    continuar = \"s\"\n",
        "else:\n",
        "    continuar = \"n\"\n",
        "if continuar == \"s\":\n",
        "    numero = int(input(\"Digite um número inteiro (negativo para sair): \"))\n",
        "    if numero >= 0:\n",
        "        soma = soma + numero\n",
        "        quantidade = quantidade + 1\n",
        "        continuar = \"s\"\n",
        "    else:\n",
        "        continuar = \"n\"\n",
        "if continuar == \"s\":\n",
        "    numero = int(input(\"Digite um número inteiro (negativo para sair): \"))\n",
        "    if numero >= 0:\n",
        "        soma = soma + numero\n",
        "        quantidade = quantidade + 1\n",
        "        continuar = \"s\"\n",
        "    else:\n",
        "        continuar = \"n\"\n",
        "if quantidade == 0:\n",
        "    print(\"Nenhum número válido foi digitado.\")\n",
        "else:\n",
        "    media = soma / quantidade\n",
        "    print(\"A média dos números digitados é:\", round(media, 2))\n"
      ]
    },
    {
      "cell_type": "code",
      "source": [
        "# 2.Faça um programa que peça números inteiros ao usuário e conta quantos números positivos e quantos números negativos foram digitados. O programa deverá parar quando o número zero for digitado, mostrando a tela os resultados.\n",
        "positivos = 0\n",
        "negativos = 0\n",
        "continuar = \"s\"\n",
        "numero = int(input(\"Digite um número inteiro (0 para sair): \"))\n",
        "if numero > 0:\n",
        "    positivos = positivos + 1\n",
        "elif numero < 0:\n",
        "    negativos = negativos + 1\n",
        "else:\n",
        "    continuar = \"n\"\n",
        "if continuar == \"s\":\n",
        "    numero = int(input(\"Digite um número inteiro (0 para sair): \"))\n",
        "    if numero > 0:\n",
        "        positivos = positivos + 1\n",
        "    elif numero < 0:\n",
        "        negativos = negativos + 1\n",
        "    else:\n",
        "        continuar = \"n\"\n",
        "if continuar == \"s\":\n",
        "    numero = int(input(\"Digite um número inteiro (0 para sair): \"))\n",
        "    if numero > 0:\n",
        "        positivos = positivos + 1\n",
        "    elif numero < 0:\n",
        "        negativos = negativos + 1\n",
        "    else:\n",
        "        continuar = \"n\"\n",
        "print(\"Números positivos digitados:\", positivos)\n",
        "print(\"Números negativos digitados:\", negativos)"
      ],
      "metadata": {
        "colab": {
          "base_uri": "https://localhost:8080/"
        },
        "id": "Kqk3mdNSFryD",
        "outputId": "223ba5f6-ad10-4aee-e877-aae9e4e83e9f"
      },
      "execution_count": 2,
      "outputs": [
        {
          "output_type": "stream",
          "name": "stdout",
          "text": [
            "Digite um número inteiro (0 para sair): 5\n",
            "Digite um número inteiro (0 para sair): 0\n",
            "Números positivos digitados: 1\n",
            "Números negativos digitados: 0\n"
          ]
        }
      ]
    },
    {
      "cell_type": "code",
      "source": [
        "# 3.Faça um programa que peça uma nota, entre zero e dez. Mostre uma mensagem caso o valor seja inválido e continue pedindo até que o usuário informe um valor válido.\n",
        "nota = int(input(\"Digite uma nota entre 0 e 10: \"))\n",
        "if nota < 0 or nota > 10:\n",
        "    print(\"Valor inválido.\")\n",
        "if nota < 0 or nota > 10:\n",
        "    nota = int(input(\"Digite uma nota entre 0 e 10: \"))\n",
        "    if nota < 0 or nota > 10:\n",
        "        print(\"Valor inválido.\")\n",
        "if nota < 0 or nota > 10:\n",
        "    nota = int(input(\"Digite uma nota entre 0 e 10: \"))\n",
        "    if nota < 0 or nota > 10:\n",
        "        print(\"Valor inválido.\")\n",
        "if nota >= 0 and nota <= 10:\n",
        "    print(\"Nota válida digitada:\", nota)"
      ],
      "metadata": {
        "id": "27-Jxit4Mris"
      },
      "execution_count": null,
      "outputs": []
    },
    {
      "cell_type": "code",
      "source": [
        "# 4.Faça um programa que peça o valor total de um orçamento (valor igual ou maior do que R$100.00). Então, peça vários valores de serviço até chegar no valor total e mostre na tela o valor de cada serviço que será executado. Note que nem sempre será possível utilizar todo orçamento. Quando o valor do serviço estourar ou consumir todo orçamento, o programa deverá avisar que nenhum outro serviço poderá ser pedido.\n",
        "orcamento = float(input(\"Digite o valor total do orçamento (mínimo R$100.00): \"))\n",
        "if orcamento < 100:\n",
        "    print(\"Valor inválido. O orçamento deve ser de pelo menos R$100.00.\")\n",
        "else:\n",
        "    restante = orcamento\n",
        "\n",
        "    servico1 = float(input(\"Digite o valor do serviço: \"))\n",
        "    if servico1 <= restante:\n",
        "        print(\"Serviço aceito: R$\", servico1)\n",
        "        restante = restante - servico1\n",
        "    else:\n",
        "        print(\"Serviço excede o orçamento. Nenhum outro serviço poderá ser pedido.\")\n",
        "        restante = 0\n",
        "    if restante > 0:\n",
        "        servico2 = float(input(\"Digite o valor do serviço: \"))\n",
        "        if servico2 <= restante:\n",
        "            print(\"Serviço aceito: R$\", servico2)\n",
        "            restante = restante - servico2\n",
        "        else:\n",
        "            print(\"Serviço excede o orçamento. Nenhum outro serviço poderá ser pedido.\")\n",
        "            restante = 0\n",
        "    if restante > 0:\n",
        "        servico3 = float(input(\"Digite o valor do serviço: \"))\n",
        "        if servico3 <= restante:\n",
        "            print(\"Serviço aceito: R$\", servico3)\n",
        "            restante = restante - servico3\n",
        "        else:\n",
        "            print(\"Serviço excede o orçamento. Nenhum outro serviço poderá ser pedido.\")\n",
        "            restante = 0\n",
        "    if restante > 0:\n",
        "        servico4 = float(input(\"Digite o valor do serviço: \"))\n",
        "        if servico4 <= restante:\n",
        "            print(\"Serviço aceito: R$\", servico4)\n",
        "            restante = restante - servico4\n",
        "        else:\n",
        "            print(\"Serviço excede o orçamento. Nenhum outro serviço poderá ser pedido.\")\n",
        "            restante = 0\n",
        "    if restante > 0:\n",
        "        servico5 = float(input(\"Digite o valor do serviço: \"))\n",
        "        if servico5 <= restante:\n",
        "            print(\"Serviço aceito: R$\", servico5)\n",
        "            restante = restante - servico5\n",
        "        else:\n",
        "            print(\"Serviço excede o orçamento. Nenhum outro serviço poderá ser pedido.\")\n",
        "            restante = 0\n",
        "    print(\"Orçamento restante: R$\", restante)"
      ],
      "metadata": {
        "colab": {
          "base_uri": "https://localhost:8080/"
        },
        "id": "ScioXRHBM9zc",
        "outputId": "08b119f6-da6f-4e76-c2e9-e781405b8b14"
      },
      "execution_count": 3,
      "outputs": [
        {
          "output_type": "stream",
          "name": "stdout",
          "text": [
            "Digite o valor total do orçamento (mínimo R$100.00): 200\n",
            "Digite o valor do serviço: 30\n",
            "Serviço aceito: R$ 30.0\n",
            "Digite o valor do serviço: 30\n",
            "Serviço aceito: R$ 30.0\n",
            "Digite o valor do serviço: 200\n",
            "Serviço excede o orçamento. Nenhum outro serviço poderá ser pedido.\n",
            "Orçamento restante: R$ 0\n"
          ]
        }
      ]
    },
    {
      "cell_type": "code",
      "source": [
        "# 5.Faça um programa que leia e valide as seguintes informações:\n",
        "    #a. Nome: maior que 3 caracteres;\n",
        "    #b. Idade: entre 0 e 150;\n",
        "    #c. Salário: maior que zero;\n",
        "    #d. Sexo: 'f' ou 'm';\n",
        "    #e. Estado Civil: 's', 'c', 'v', 'd';\n",
        "\n",
        "    #Caso alguma condição seja violada, peça para o usuário entrar novamente o valor.\n",
        "\n",
        "    #Use a função len(string) para saber o tamanho de um texto (número de caracteres).\n",
        "nome = input(\"Digite o nome (mais de 3 caracteres): \")\n",
        "if len(nome) <= 3:\n",
        "    print(\"Nome inválido.\")\n",
        "if len(nome) <= 3:\n",
        "    nome = input(\"Digite o nome (mais de 3 caracteres): \")\n",
        "    if len(nome) <= 3:\n",
        "        print(\"Nome inválido.\")\n",
        "if len(nome) > 3:\n",
        "    print(\"Nome válido:\", nome)\n",
        "idade = int(input(\"Digite a idade (entre 0 e 150): \"))\n",
        "if idade < 0 or idade > 150:\n",
        "    print(\"Idade inválida.\")\n",
        "if idade < 0 or idade > 150:\n",
        "    idade = int(input(\"Digite a idade (entre 0 e 150): \"))\n",
        "    if idade < 0 or idade > 150:\n",
        "        print(\"Idade inválida.\")\n",
        "if idade >= 0 and idade <= 150:\n",
        "    print(\"Idade válida:\", idade)\n",
        "salario = float(input(\"Digite o salário (maior que 0): \"))\n",
        "if salario <= 0:\n",
        "    print(\"Salário inválido.\")\n",
        "if salario <= 0:\n",
        "    salario = float(input(\"Digite o salário (maior que 0): \"))\n",
        "    if salario <= 0:\n",
        "        print(\"Salário inválido.\")\n",
        "if salario > 0:\n",
        "    print(\"Salário válido: R$\", salario)\n",
        "sexo = input(\"Digite o sexo (f ou m): \")\n",
        "if sexo != \"f\" and sexo != \"m\":\n",
        "    print(\"Sexo inválido.\")\n",
        "if sexo != \"f\" and sexo != \"m\":\n",
        "    sexo = input(\"Digite o sexo (f ou m): \")\n",
        "    if sexo != \"f\" and sexo != \"m\":\n",
        "        print(\"Sexo inválido.\")\n",
        "if sexo == \"f\" or sexo == \"m\":\n",
        "    print(\"Sexo válido:\", sexo)\n",
        "estado_civil = input(\"Digite o estado civil (s, c, v, d): \")\n",
        "if estado_civil != \"s\" and estado_civil != \"c\" and estado_civil != \"v\" and estado_civil != \"d\":\n",
        "    print(\"Estado civil inválido.\")\n",
        "if estado_civil != \"s\" and estado_civil != \"c\" and estado_civil != \"v\" and estado_civil != \"d\":\n",
        "    estado_civil = input(\"Digite o estado civil (s, c, v, d): \")\n",
        "    if estado_civil != \"s\" and estado_civil != \"c\" and estado_civil != \"v\" and estado_civil != \"d\":\n",
        "        print(\"Estado civil inválido.\")\n",
        "if estado_civil == \"s\" or estado_civil == \"c\" or estado_civil == \"v\" or estado_civil == \"d\":\n",
        "    print(\"Estado civil válido:\", estado_civil)"
      ],
      "metadata": {
        "colab": {
          "base_uri": "https://localhost:8080/"
        },
        "id": "eL7-iWjJNXTO",
        "outputId": "9679f5d1-3b1f-4fc2-b703-99c551b0b334"
      },
      "execution_count": 4,
      "outputs": [
        {
          "output_type": "stream",
          "name": "stdout",
          "text": [
            "Digite o nome (mais de 3 caracteres): gabriel\n",
            "Nome válido: gabriel\n",
            "Digite a idade (entre 0 e 150): 18\n",
            "Idade válida: 18\n",
            "Digite o salário (maior que 0): 1\n",
            "Salário válido: R$ 1.0\n",
            "Digite o sexo (f ou m): m\n",
            "Sexo válido: m\n",
            "Digite o estado civil (s, c, v, d): s\n",
            "Estado civil válido: s\n"
          ]
        }
      ]
    },
    {
      "cell_type": "code",
      "source": [
        "# 6.Faça um programa que peça dois números inteiros positivos, base e expoente, calcule e mostre o primeiro número elevado ao segundo número. Não utilize a função ou o operador de potência da linguagem. (faça esse programa utilizando o while)\n",
        "base = int(input(\"Digite a base (número inteiro positivo): \"))\n",
        "expoente = int(input(\"Digite o expoente (número inteiro positivo): \"))\n",
        "resultado = 1\n",
        "contador = 0\n",
        "while contador < expoente:\n",
        "    resultado = resultado * base\n",
        "    contador = contador + 1\n",
        "print(\"Resultado:\", resultado)"
      ],
      "metadata": {
        "colab": {
          "base_uri": "https://localhost:8080/"
        },
        "id": "_3o2CVlZOBfE",
        "outputId": "a063342e-9d99-4a53-93f6-eb776a60a12e"
      },
      "execution_count": 6,
      "outputs": [
        {
          "output_type": "stream",
          "name": "stdout",
          "text": [
            "Digite a base (número inteiro positivo): 5\n",
            "Digite o expoente (número inteiro positivo): 5\n",
            "Resultado: 3125\n"
          ]
        }
      ]
    },
    {
      "cell_type": "code",
      "source": [
        "# 7.Faça um programa que peça um número inteiro e mostre a tabuada desse número na tela. Faça utilizando o for. (Essa tarefa poderia ser feita utilizando o while? Por quê?)\n",
        "numero = int(input(\"Digite um número inteiro para ver sua tabuada: \"))\n",
        "for i in range(1, 11):  # Vai de 1 até 10\n",
        "    resultado = numero * i\n",
        "    print(f\"{numero} x {i} = {resultado}\")\n",
        "\n",
        "#Sim, a tarefa poderia ser feita com while. A diferença é que, com for, a repetição é mais direta e controlada pela própria estrutura, enquanto com while, precisamos gerenciar a variável i manualmente.\n"
      ],
      "metadata": {
        "id": "0Skf2i-ZOgkx"
      },
      "execution_count": null,
      "outputs": []
    },
    {
      "cell_type": "code",
      "source": [
        "# 8.Faça um programa que peça um número inteiro positivo n e mostre os n primeiros números da sequência de Fibonacci.\n",
        "n = int(input(\"Digite um número inteiro positivo n: \"))\n",
        "if n <= 0:\n",
        "    print(\"Por favor, digite um número inteiro positivo.\")\n",
        "else:\n",
        "    a, b = 0, 1\n",
        "    if n >= 1:\n",
        "        print(a, end=\" \")\n",
        "    if n >= 2:\n",
        "        print(b, end=\" \")\n",
        "    if n >= 3:\n",
        "        c = a + b\n",
        "        print(c, end=\" \")\n",
        "    if n >= 4:\n",
        "        d = b + c\n",
        "        print(d, end=\" \")\n",
        "    if n >= 5:\n",
        "        e = c + d\n",
        "        print(e, end=\" \")\n",
        "    if n >= 6:\n",
        "        f = d + e\n",
        "        print(f, end=\" \")\n",
        "    if n >= 7:\n",
        "        g = e + f\n",
        "        print(g, end=\" \")\n",
        "    if n >= 8:\n",
        "        h = f + g\n",
        "        print(h, end=\" \")\n",
        "    if n >= 9:\n",
        "        i = g + h\n",
        "        print(i, end=\" \")\n",
        "    if n >= 10:\n",
        "        j = h + i\n",
        "        print(j, end=\" \")"
      ],
      "metadata": {
        "colab": {
          "base_uri": "https://localhost:8080/"
        },
        "id": "3kDnet7JO-Hg",
        "outputId": "c3e3a702-cbd4-4cac-aa93-7b2d4ce977eb"
      },
      "execution_count": 7,
      "outputs": [
        {
          "output_type": "stream",
          "name": "stdout",
          "text": [
            "Digite um número inteiro positivo n: 5\n",
            "0 1 1 2 3 "
          ]
        }
      ]
    },
    {
      "cell_type": "code",
      "source": [
        "# 9.Faça um programa que peça um número inteiro não negativo n e mostre o valor de n fatorial (n!).\n",
        "n = int(input(\"Digite um número inteiro não negativo n: \"))\n",
        "if n < 0:\n",
        "    print(\"Por favor, digite um número inteiro não negativo.\")\n",
        "else:\n",
        "    fatorial = 1\n",
        "    if n >= 1:\n",
        "        fatorial = fatorial * n\n",
        "        n = n - 1\n",
        "    if n >= 1:\n",
        "        fatorial = fatorial * n\n",
        "        n = n - 1\n",
        "    if n >= 1:\n",
        "        fatorial = fatorial * n\n",
        "        n = n - 1\n",
        "    if n >= 1:\n",
        "        fatorial = fatorial * n\n",
        "        n = n - 1\n",
        "    if n >= 1:\n",
        "        fatorial = fatorial * n\n",
        "        n = n - 1\n",
        "    if n >= 1:\n",
        "        fatorial = fatorial * n\n",
        "        n = n - 1\n",
        "    if n >= 1:\n",
        "        fatorial = fatorial * n\n",
        "        n = n - 1\n",
        "    if n >= 1:\n",
        "        fatorial = fatorial * n\n",
        "        n = n - 1\n",
        "    if n >= 1:\n",
        "        fatorial = fatorial * n\n",
        "        n = n - 1\n",
        "    if n >= 1:\n",
        "        fatorial = fatorial * n\n",
        "        n = n - 1\n",
        "    print(\"Resultado do fatorial:\", fatorial)"
      ],
      "metadata": {
        "colab": {
          "base_uri": "https://localhost:8080/"
        },
        "id": "PGVyROuhPSy1",
        "outputId": "d479082a-9f6f-4c63-bce7-630d30c515aa"
      },
      "execution_count": 9,
      "outputs": [
        {
          "output_type": "stream",
          "name": "stdout",
          "text": [
            "Digite um número inteiro não negativo n: 5\n",
            "Resultado do fatorial: 120\n"
          ]
        }
      ]
    },
    {
      "cell_type": "code",
      "source": [
        "# 10.Faça um programa que peça um número inteiro e determine se esse número é um número primo. (Um número é primo se ele for divisível somente por ele mesmo e por 1).\n",
        "numero = int(input(\"Digite um número inteiro para verificar se é primo: \"))\n",
        "if numero <= 1:\n",
        "    print(f\"{numero} não é primo.\")\n",
        "else:\n",
        "    divisor = 2\n",
        "    divisivel = False\n",
        "    if numero % divisor == 0:\n",
        "        divisivel = True\n",
        "        print(f\"{numero} não é primo.\")\n",
        "    if not divisivel:\n",
        "        divisor = 3\n",
        "        if numero % divisor == 0:\n",
        "            divisivel = True\n",
        "            print(f\"{numero} não é primo.\")\n",
        "    if not divisivel:\n",
        "        divisor = 4\n",
        "        if numero % divisor == 0:\n",
        "            divisivel = True\n",
        "            print(f\"{numero} não é primo.\")\n",
        "    if not divisivel:\n",
        "        divisor = 5\n",
        "        if numero % divisor == 0:\n",
        "            divisivel = True\n",
        "            print(f\"{numero} não é primo.\")\n",
        "    if not divisivel:\n",
        "        divisor = 6\n",
        "        if numero % divisor == 0:\n",
        "            divisivel = True\n",
        "            print(f\"{numero} não é primo.\")\n",
        "    if not divisivel:\n",
        "        divisor = 7\n",
        "        if numero % divisor == 0:\n",
        "            divisivel = True\n",
        "            print(f\"{numero} não é primo.\")\n",
        "    if not divisivel:\n",
        "        divisor = 8\n",
        "        if numero % divisor == 0:\n",
        "            divisivel = True\n",
        "            print(f\"{numero} não é primo.\")\n",
        "    if not divisivel:\n",
        "        divisor = 9\n",
        "        if numero % divisor == 0:\n",
        "            divisivel = True\n",
        "            print(f\"{numero} não é primo.\")\n",
        "    if not divisivel:\n",
        "        divisor = 10\n",
        "        if numero % divisor == 0:\n",
        "            divisivel = True\n",
        "            print(f\"{numero} não é primo.\")\n",
        "    if not divisivel:\n",
        "        print(f\"{numero} é primo.\")"
      ],
      "metadata": {
        "colab": {
          "base_uri": "https://localhost:8080/"
        },
        "id": "zJmCS1c8PxI7",
        "outputId": "e17a0a36-e118-46b5-c10b-131e8028ec79"
      },
      "execution_count": 10,
      "outputs": [
        {
          "output_type": "stream",
          "name": "stdout",
          "text": [
            "Digite um número inteiro para verificar se é primo: 5\n",
            "5 não é primo.\n"
          ]
        }
      ]
    },
    {
      "cell_type": "code",
      "source": [
        "# 11.Faça um programa que peça dois números inteiros positivos e mostra o máximo divisor comum (MDC) e o mínimo múltiplo comum (MMC) desses números.\n",
        "def mdc(a, b):\n",
        "    if a < b:\n",
        "        a, b = b, a\n",
        "    while b != 0:\n",
        "        a, b = b, a % b\n",
        "    return a\n",
        "def mmc(a, b):\n",
        "    return abs(a * b) // mdc(a, b)\n",
        "a = int(input(\"Digite o primeiro número inteiro positivo: \"))\n",
        "b = int(input(\"Digite o segundo número inteiro positivo: \"))\n",
        "resultado_mdc = mdc(a, b)\n",
        "resultado_mmc = mmc(a, b)\n",
        "print(f\"O MDC de {a} e {b} é: {resultado_mdc}\")\n",
        "print(f\"O MMC de {a} e {b} é: {resultado_mmc}\")"
      ],
      "metadata": {
        "colab": {
          "base_uri": "https://localhost:8080/"
        },
        "id": "v8uj5YqOQh4i",
        "outputId": "ab0ec47e-6e87-4b5e-934c-6126666b6c41"
      },
      "execution_count": 11,
      "outputs": [
        {
          "output_type": "stream",
          "name": "stdout",
          "text": [
            "Digite o primeiro número inteiro positivo: 2\n",
            "Digite o segundo número inteiro positivo: 3\n",
            "O MDC de 2 e 3 é: 1\n",
            "O MMC de 2 e 3 é: 6\n"
          ]
        }
      ]
    },
    {
      "cell_type": "code",
      "source": [
        "# 12.Faça um programa que peça a razão e primeiro termo de uma PA (progressão aritmética). Peça um número inteiro positivo n e mostra os n primeiros termos dessa PA.\n",
        "primeiro_termo = int(input(\"Digite o primeiro termo da PA: \"))\n",
        "razao = int(input(\"Digite a razão da PA: \"))\n",
        "n = int(input(\"Digite o número de termos da PA: \"))\n",
        "termo_atual = primeiro_termo\n",
        "contador = 1\n",
        "print(\"Os primeiros termos da PA são:\")\n",
        "if n >= 1:\n",
        "    print(termo_atual, end=\" \")\n",
        "if n >= 2:\n",
        "    termo_atual += razao\n",
        "    print(termo_atual, end=\" \")\n",
        "if n >= 3:\n",
        "    termo_atual += razao\n",
        "    print(termo_atual, end=\" \")\n",
        "if n >= 4:\n",
        "    termo_atual += razao\n",
        "    print(termo_atual, end=\" \")\n",
        "if n >= 5:\n",
        "    termo_atual += razao\n",
        "    print(termo_atual, end=\" \")\n",
        "if n >= 6:\n",
        "    termo_atual += razao\n",
        "    print(termo_atual, end=\" \")\n",
        "if n >= 7:\n",
        "    termo_atual += razao\n",
        "    print(termo_atual, end=\" \")\n",
        "if n >= 8:\n",
        "    termo_atual += razao\n",
        "    print(termo_atual, end=\" \")\n",
        "if n >= 9:\n",
        "    termo_atual += razao\n",
        "    print(termo_atual, end=\" \")\n",
        "if n >= 10:\n",
        "    termo_atual += razao\n",
        "    print(termo_atual, end=\" \")"
      ],
      "metadata": {
        "colab": {
          "base_uri": "https://localhost:8080/"
        },
        "id": "_8gqy_RQQxlA",
        "outputId": "87da1db3-fd08-434f-a151-8d054c2904d5"
      },
      "execution_count": 12,
      "outputs": [
        {
          "output_type": "stream",
          "name": "stdout",
          "text": [
            "Digite o primeiro termo da PA: 4\n",
            "Digite a razão da PA: 6\n",
            "Digite o número de termos da PA: 8\n",
            "Os primeiros termos da PA são:\n",
            "4 10 16 22 28 34 40 46 "
          ]
        }
      ]
    },
    {
      "cell_type": "code",
      "source": [
        "# 13.Faça um programa que peça a razão e terceiro termo de uma PA (progressão aritmética). Peça um número inteiro positivo n (maior do que 3) e mostra os n primeiros termos dessa PA.\n",
        "terceiro_termo = int(input(\"Digite o terceiro termo da PA: \"))\n",
        "razao = int(input(\"Digite a razão da PA: \"))\n",
        "n = int(input(\"Digite o número de termos da PA (maior do que 3): \"))\n",
        "primeiro_termo = terceiro_termo - 2 * razao\n",
        "segundo_termo = primeiro_termo + razao\n",
        "termo_atual = primeiro_termo\n",
        "contador = 1\n",
        "print(\"Os primeiros termos da PA são:\")\n",
        "if n >= 1:\n",
        "    print(termo_atual, end=\" \")\n",
        "if n >= 2:\n",
        "    termo_atual += razao\n",
        "    print(termo_atual, end=\" \")\n",
        "if n >= 3:\n",
        "    termo_atual += razao\n",
        "    print(termo_atual, end=\" \")\n",
        "if n >= 4:\n",
        "    termo_atual += razao\n",
        "    print(termo_atual, end=\" \")\n",
        "if n >= 5:\n",
        "    termo_atual += razao\n",
        "    print(termo_atual, end=\" \")\n",
        "if n >= 6:\n",
        "    termo_atual += razao\n",
        "    print(termo_atual, end=\" \")\n",
        "if n >= 7:\n",
        "    termo_atual += razao\n",
        "    print(termo_atual, end=\" \")\n",
        "if n >= 8:\n",
        "    termo_atual += razao\n",
        "    print(termo_atual, end=\" \")\n",
        "if n >= 9:\n",
        "    termo_atual += razao\n",
        "    print(termo_atual, end=\" \")\n",
        "if n >= 10:\n",
        "    termo_atual += razao\n",
        "    print(termo_atual, end=\" \")"
      ],
      "metadata": {
        "colab": {
          "base_uri": "https://localhost:8080/"
        },
        "id": "WG-deqjORDl-",
        "outputId": "ab3fa15d-03e0-4987-f1f9-5ca7f4b5dce6"
      },
      "execution_count": 13,
      "outputs": [
        {
          "output_type": "stream",
          "name": "stdout",
          "text": [
            "Digite o terceiro termo da PA: 5\n",
            "Digite a razão da PA: 4\n",
            "Digite o número de termos da PA (maior do que 3): 3\n",
            "Os primeiros termos da PA são:\n",
            "-3 1 5 "
          ]
        }
      ]
    },
    {
      "cell_type": "code",
      "source": [
        "# 14.Faça um programa que peça a razão e quarto termo de uma PA (progressão aritmética). Peça um número inteiro positivo n e mostra a soma dos n primeiros termos dessa PA.\n",
        "quarto_termo = int(input(\"Digite o quarto termo da PA: \"))\n",
        "razao = int(input(\"Digite a razão da PA: \"))\n",
        "n = int(input(\"Digite o número de termos da PA: \"))\n",
        "primeiro_termo = quarto_termo - 3 * razao\n",
        "segundo_termo = primeiro_termo + razao\n",
        "terceiro_termo = segundo_termo + razao\n",
        "soma = primeiro_termo\n",
        "termo_atual = primeiro_termo\n",
        "if n >= 2:\n",
        "    termo_atual = segundo_termo\n",
        "    soma += termo_atual\n",
        "if n >= 3:\n",
        "    termo_atual = terceiro_termo\n",
        "    soma += termo_atual\n",
        "if n >= 4:\n",
        "    termo_atual = quarto_termo\n",
        "    soma += termo_atual\n",
        "if n > 4:\n",
        "    termo_atual += razao\n",
        "    soma += termo_atual\n",
        "if n > 5:\n",
        "    termo_atual += razao\n",
        "    soma += termo_atual\n",
        "if n > 6:\n",
        "    termo_atual += razao\n",
        "    soma += termo_atual\n",
        "if n > 7:\n",
        "    termo_atual += razao\n",
        "    soma += termo_atual\n",
        "if n > 8:\n",
        "    termo_atual += razao\n",
        "    soma += termo_atual\n",
        "if n > 9:\n",
        "    termo_atual += razao\n",
        "    soma += termo_atual\n",
        "print(f\"A soma dos {n} primeiros termos da PA é: {soma}\")"
      ],
      "metadata": {
        "colab": {
          "base_uri": "https://localhost:8080/"
        },
        "id": "COZnokmgUfpb",
        "outputId": "103157dc-88d7-4037-b549-c935bc4de154"
      },
      "execution_count": 14,
      "outputs": [
        {
          "output_type": "stream",
          "name": "stdout",
          "text": [
            "Digite o quarto termo da PA: 5\n",
            "Digite a razão da PA: 4\n",
            "Digite o número de termos da PA: 6\n",
            "A soma dos 6 primeiros termos da PA é: 18\n"
          ]
        }
      ]
    },
    {
      "cell_type": "code",
      "source": [
        "# 15.Faça um programa que peça a razão e primeiro termo de uma PG (progressão geométrica). Peça um número inteiro positivo n e mostra os n primeiros termos dessa PG.\n",
        "primeiro_termo = int(input(\"Digite o primeiro termo da PG: \"))\n",
        "razao = float(input(\"Digite a razão da PG: \"))\n",
        "n = int(input(\"Digite o número de termos da PG: \"))\n",
        "termo_atual = primeiro_termo\n",
        "contador = 1\n",
        "print(\"Os primeiros termos da PG são:\")\n",
        "if n >= 1:\n",
        "    print(termo_atual, end=\" \")\n",
        "if n >= 2:\n",
        "    termo_atual *= razao\n",
        "    print(termo_atual, end=\" \")\n",
        "if n >= 3:\n",
        "    termo_atual *= razao\n",
        "    print(termo_atual, end=\" \")\n",
        "if n >= 4:\n",
        "    termo_atual *= razao\n",
        "    print(termo_atual, end=\" \")\n",
        "if n >= 5:\n",
        "    termo_atual *= razao\n",
        "    print(termo_atual, end=\" \")\n",
        "if n >= 6:\n",
        "    termo_atual *= razao\n",
        "    print(termo_atual, end=\" \")\n",
        "if n >= 7:\n",
        "    termo_atual *= razao\n",
        "    print(termo_atual, end=\" \")\n",
        "if n >= 8:\n",
        "    termo_atual *= razao\n",
        "    print(termo_atual, end=\" \")\n",
        "if n >= 9:\n",
        "    termo_atual *= razao\n",
        "    print(termo_atual, end=\" \")\n",
        "if n >= 10:\n",
        "    termo_atual *= razao\n",
        "    print(termo_atual, end=\" \")"
      ],
      "metadata": {
        "colab": {
          "base_uri": "https://localhost:8080/"
        },
        "id": "qhIVk2WxVAJA",
        "outputId": "19d59ab9-5829-4dfb-d700-083a60b732c1"
      },
      "execution_count": 15,
      "outputs": [
        {
          "output_type": "stream",
          "name": "stdout",
          "text": [
            "Digite o primeiro termo da PG: 6\n",
            "Digite a razão da PG: 5\n",
            "Digite o número de termos da PG: 4\n",
            "Os primeiros termos da PG são:\n",
            "6 30.0 150.0 750.0 "
          ]
        }
      ]
    },
    {
      "cell_type": "code",
      "source": [
        "# 16.Faça um programa que peça a razão e terceiro termo de uma PG (progressão geométrica). Peça um número inteiro positivo n (maior do que 3) e mostra os n primeiros termos e a soma dos n primeiros termos dessa PG.5\n",
        "terceiro_termo = float(input(\"Digite o terceiro termo da PG: \"))\n",
        "razao = float(input(\"Digite a razão da PG: \"))\n",
        "n = int(input(\"Digite o número de termos da PG (maior do que 3): \"))\n",
        "primeiro_termo = terceiro_termo / (razao ** 2)\n",
        "segundo_termo = primeiro_termo * razao\n",
        "termo_atual = primeiro_termo\n",
        "contador = 1\n",
        "soma = 0\n",
        "print(\"Os primeiros termos da PG são:\")\n",
        "if n >= 1:\n",
        "    print(termo_atual, end=\" \")\n",
        "    soma += termo_atual\n",
        "if n >= 2:\n",
        "    termo_atual *= razao\n",
        "    print(termo_atual, end=\" \")\n",
        "    soma += termo_atual\n",
        "if n >= 3:\n",
        "    termo_atual *= razao\n",
        "    print(termo_atual, end=\" \")\n",
        "    soma += termo_atual\n",
        "if n >= 4:\n",
        "    termo_atual *= razao\n",
        "    print(termo_atual, end=\" \")\n",
        "    soma += termo_atual\n",
        "if n >= 5:\n",
        "    termo_atual *= razao\n",
        "    print(termo_atual, end=\" \")\n",
        "    soma += termo_atual\n",
        "if n >= 6:\n",
        "    termo_atual *= razao\n",
        "    print(termo_atual, end=\" \")\n",
        "    soma += termo_atual\n",
        "if n >= 7:\n",
        "    termo_atual *= razao\n",
        "    print(termo_atual, end=\" \")\n",
        "    soma += termo_atual\n",
        "if n >= 8:\n",
        "    termo_atual *= razao\n",
        "    print(termo_atual, end=\" \")\n",
        "    soma += termo_atual\n",
        "if n >= 9:\n",
        "    termo_atual *= razao\n",
        "    print(termo_atual, end=\" \")\n",
        "    soma += termo_atual\n",
        "if n >= 10:\n",
        "    termo_atual *= razao\n",
        "    print(termo_atual, end=\" \")\n",
        "    soma += termo_atual\n",
        "print(f\"\\nA soma dos {n} primeiros termos da PG é: {soma}\")"
      ],
      "metadata": {
        "colab": {
          "base_uri": "https://localhost:8080/"
        },
        "id": "y8k0sy3tVOUD",
        "outputId": "2e18b1db-6601-46b4-bef2-f47e5e7159e9"
      },
      "execution_count": 17,
      "outputs": [
        {
          "output_type": "stream",
          "name": "stdout",
          "text": [
            "Digite o terceiro termo da PG: 6\n",
            "Digite a razão da PG: 4\n",
            "Digite o número de termos da PG (maior do que 3): 3\n",
            "Os primeiros termos da PG são:\n",
            "0.375 1.5 6.0 \n",
            "A soma dos 3 primeiros termos da PG é: 7.875\n"
          ]
        }
      ]
    },
    {
      "cell_type": "code",
      "source": [
        "# 17.Faça um programa que peça o valor presente (capital inicial), a taxa de juros mensais (i) e o período em meses(n). Então, o programa deve calcular e mostrar a evolução do valor futuro (montante) a cada um dos n meses.\n",
        "capital_inicial = float(input(\"Digite o valor presente (capital inicial): R$ \"))\n",
        "taxa_juros_mensal = float(input(\"Digite a taxa de juros mensal (em %): \")) / 100\n",
        "meses = int(input(\"Digite o número de meses: \"))\n",
        "montante = capital_inicial\n",
        "print(f\"\\nEvolução do montante a cada mês:\")\n",
        "for mes in range(1, meses + 1):\n",
        "    montante = montante * (1 + taxa_juros_mensal)\n",
        "    print(f\"Mês {mes}: R$ {montante:.2f}\")"
      ],
      "metadata": {
        "colab": {
          "base_uri": "https://localhost:8080/"
        },
        "id": "I0lz8IUyVq-U",
        "outputId": "adfda014-dacc-48ad-eb72-6c89946b0fea"
      },
      "execution_count": 18,
      "outputs": [
        {
          "output_type": "stream",
          "name": "stdout",
          "text": [
            "Digite o valor presente (capital inicial): R$ 4\n",
            "Digite a taxa de juros mensal (em %): 2\n",
            "Digite o número de meses: 3\n",
            "\n",
            "Evolução do montante a cada mês:\n",
            "Mês 1: R$ 4.08\n",
            "Mês 2: R$ 4.16\n",
            "Mês 3: R$ 4.24\n"
          ]
        }
      ]
    },
    {
      "cell_type": "code",
      "source": [
        "# 18.Faça um programa que pede o valor que será depositado todos o meses, o valor da taxa de juros mensal e o total de meses (n) . O programa deverá mostrar na tela o valor do montante e o valor dos juros em cada um dos n meses.\n",
        "deposito_mensal = float(input(\"Digite o valor que será depositado todo mês: R$ \"))\n",
        "taxa_juros_mensal = float(input(\"Digite a taxa de juros mensal (em %): \")) / 100\n",
        "meses = int(input(\"Digite o número de meses: \"))\n",
        "montante_total = 0\n",
        "juros = 0\n",
        "print(f\"\\nEvolução do montante e juros a cada mês:\")\n",
        "for mes in range(1, meses + 1):\n",
        "    montante_total += deposito_mensal\n",
        "    juros_mes = montante_total * taxa_juros_mensal\n",
        "    montante_total += juros_mes\n",
        "    print(f\"Mês {mes}: Montante = R$ {montante_total:.2f}, Juros = R$ {juros_mes:.2f}\")"
      ],
      "metadata": {
        "colab": {
          "base_uri": "https://localhost:8080/"
        },
        "id": "w4C3MqKsV2td",
        "outputId": "99f95a44-8530-420c-b045-0038b1a26f8e"
      },
      "execution_count": 19,
      "outputs": [
        {
          "output_type": "stream",
          "name": "stdout",
          "text": [
            "Digite o valor que será depositado todo mês: R$ 40\n",
            "Digite a taxa de juros mensal (em %): 3\n",
            "Digite o número de meses: 21\n",
            "\n",
            "Evolução do montante e juros a cada mês:\n",
            "Mês 1: Montante = R$ 41.20, Juros = R$ 1.20\n",
            "Mês 2: Montante = R$ 83.64, Juros = R$ 2.44\n",
            "Mês 3: Montante = R$ 127.35, Juros = R$ 3.71\n",
            "Mês 4: Montante = R$ 172.37, Juros = R$ 5.02\n",
            "Mês 5: Montante = R$ 218.74, Juros = R$ 6.37\n",
            "Mês 6: Montante = R$ 266.50, Juros = R$ 7.76\n",
            "Mês 7: Montante = R$ 315.69, Juros = R$ 9.19\n",
            "Mês 8: Montante = R$ 366.36, Juros = R$ 10.67\n",
            "Mês 9: Montante = R$ 418.56, Juros = R$ 12.19\n",
            "Mês 10: Montante = R$ 472.31, Juros = R$ 13.76\n",
            "Mês 11: Montante = R$ 527.68, Juros = R$ 15.37\n",
            "Mês 12: Montante = R$ 584.71, Juros = R$ 17.03\n",
            "Mês 13: Montante = R$ 643.45, Juros = R$ 18.74\n",
            "Mês 14: Montante = R$ 703.96, Juros = R$ 20.50\n",
            "Mês 15: Montante = R$ 766.28, Juros = R$ 22.32\n",
            "Mês 16: Montante = R$ 830.46, Juros = R$ 24.19\n",
            "Mês 17: Montante = R$ 896.58, Juros = R$ 26.11\n",
            "Mês 18: Montante = R$ 964.67, Juros = R$ 28.10\n",
            "Mês 19: Montante = R$ 1034.81, Juros = R$ 30.14\n",
            "Mês 20: Montante = R$ 1107.06, Juros = R$ 32.24\n",
            "Mês 21: Montante = R$ 1181.47, Juros = R$ 34.41\n"
          ]
        }
      ]
    },
    {
      "cell_type": "code",
      "source": [
        "# 19.2Faça um programa que pede o número n de provas e as n notas e calcula a média e o desvio padrão dessas notas.\n",
        "n = int(input(\"Digite o número de provas: \"))\n",
        "notas = []\n",
        "for i in range(n):\n",
        "    nota = float(input(f\"Digite a nota da prova {i+1}: \"))\n",
        "    notas.append(nota)\n",
        "soma_notas = sum(notas)\n",
        "media = soma_notas / n\n",
        "soma_dos_quadrados = sum((nota - media) ** 2 for nota in notas)\n",
        "desvio_padrao = (soma_dos_quadrados / n) ** 0.5\n",
        "print(f\"\\nMédia das notas: {media:.2f}\")\n",
        "print(f\"Desvio padrão das notas: {desvio_padrao:.2f}\")"
      ],
      "metadata": {
        "colab": {
          "base_uri": "https://localhost:8080/"
        },
        "id": "qlPDwUlpWJai",
        "outputId": "a320c903-181c-49a3-c0bf-79c458fc5bbc"
      },
      "execution_count": 21,
      "outputs": [
        {
          "output_type": "stream",
          "name": "stdout",
          "text": [
            "Digite o número de provas: 2\n",
            "Digite a nota da prova 1: 2\n",
            "Digite a nota da prova 2: 2\n",
            "\n",
            "Média das notas: 2.00\n",
            "Desvio padrão das notas: 0.00\n"
          ]
        }
      ]
    },
    {
      "cell_type": "code",
      "source": [
        "# 20.Faça um programa que peça um número inteiro positivo e mostra esse número no sistema binário.\n",
        "numero = int(input(\"Digite um número inteiro positivo: \"))\n",
        "binario = \"\"\n",
        "while numero > 0:\n",
        "    binario = str(numero % 2) + binario\n",
        "    numero = numero // 2\n",
        "print(f\"O número em binário é: {binario}\")"
      ],
      "metadata": {
        "colab": {
          "base_uri": "https://localhost:8080/"
        },
        "id": "B5BFDekIWdE_",
        "outputId": "c28a3cf9-af42-4b63-d2e2-8405cb4377d9"
      },
      "execution_count": 22,
      "outputs": [
        {
          "output_type": "stream",
          "name": "stdout",
          "text": [
            "Digite um número inteiro positivo: 2\n",
            "O número em binário é: 10\n"
          ]
        }
      ]
    }
  ]
}